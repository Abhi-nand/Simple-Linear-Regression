{
  "cells": [
    {
      "cell_type": "markdown",
      "metadata": {
        "id": "view-in-github",
        "colab_type": "text"
      },
      "source": [
        "<a href=\"https://colab.research.google.com/github/Abhi-nand/Simple-Linear-Regression/blob/main/SLR2.ipynb\" target=\"_parent\"><img src=\"https://colab.research.google.com/assets/colab-badge.svg\" alt=\"Open In Colab\"/></a>"
      ]
    },
    {
      "cell_type": "markdown",
      "metadata": {
        "id": "6o9DXg5kWla0"
      },
      "source": [
        "## Importing the required Python packages"
      ]
    },
    {
      "cell_type": "code",
      "execution_count": null,
      "metadata": {
        "id": "EQJXoR3-Wla6"
      },
      "outputs": [],
      "source": [
        "import numpy as np\n",
        "import pandas as pd\n",
        "import matplotlib.pyplot as plt\n",
        "%matplotlib inline\n",
        "\n",
        "from sklearn.linear_model import LinearRegression\n",
        "from sklearn.model_selection import train_test_split\n",
        "from sklearn.metrics import mean_squared_error\n",
        "from sklearn.metrics import mean_absolute_error"
      ]
    },
    {
      "cell_type": "markdown",
      "metadata": {
        "id": "edU_h9QDWla_"
      },
      "source": [
        "### Reading the data"
      ]
    },
    {
      "cell_type": "code",
      "execution_count": null,
      "metadata": {
        "id": "O7NbYrZKWla_",
        "outputId": "65ed52ce-d75e-4616-f5fa-faf106e94bd7"
      },
      "outputs": [
        {
          "data": {
            "text/html": [
              "<div>\n",
              "<style scoped>\n",
              "    .dataframe tbody tr th:only-of-type {\n",
              "        vertical-align: middle;\n",
              "    }\n",
              "\n",
              "    .dataframe tbody tr th {\n",
              "        vertical-align: top;\n",
              "    }\n",
              "\n",
              "    .dataframe thead th {\n",
              "        text-align: right;\n",
              "    }\n",
              "</style>\n",
              "<table border=\"1\" class=\"dataframe\">\n",
              "  <thead>\n",
              "    <tr style=\"text-align: right;\">\n",
              "      <th></th>\n",
              "      <th>Price</th>\n",
              "      <th>Demand</th>\n",
              "    </tr>\n",
              "  </thead>\n",
              "  <tbody>\n",
              "    <tr>\n",
              "      <th>0</th>\n",
              "      <td>3.0</td>\n",
              "      <td>6791</td>\n",
              "    </tr>\n",
              "    <tr>\n",
              "      <th>1</th>\n",
              "      <td>3.6</td>\n",
              "      <td>5988</td>\n",
              "    </tr>\n",
              "    <tr>\n",
              "      <th>2</th>\n",
              "      <td>40.0</td>\n",
              "      <td>354</td>\n",
              "    </tr>\n",
              "    <tr>\n",
              "      <th>3</th>\n",
              "      <td>21.0</td>\n",
              "      <td>651</td>\n",
              "    </tr>\n",
              "    <tr>\n",
              "      <th>4</th>\n",
              "      <td>4.0</td>\n",
              "      <td>7111</td>\n",
              "    </tr>\n",
              "    <tr>\n",
              "      <th>5</th>\n",
              "      <td>30.0</td>\n",
              "      <td>406</td>\n",
              "    </tr>\n",
              "    <tr>\n",
              "      <th>6</th>\n",
              "      <td>29.0</td>\n",
              "      <td>577</td>\n",
              "    </tr>\n",
              "    <tr>\n",
              "      <th>7</th>\n",
              "      <td>18.0</td>\n",
              "      <td>655</td>\n",
              "    </tr>\n",
              "    <tr>\n",
              "      <th>8</th>\n",
              "      <td>9.0</td>\n",
              "      <td>2891</td>\n",
              "    </tr>\n",
              "    <tr>\n",
              "      <th>9</th>\n",
              "      <td>6.0</td>\n",
              "      <td>5589</td>\n",
              "    </tr>\n",
              "    <tr>\n",
              "      <th>10</th>\n",
              "      <td>5.0</td>\n",
              "      <td>6707</td>\n",
              "    </tr>\n",
              "    <tr>\n",
              "      <th>11</th>\n",
              "      <td>8.0</td>\n",
              "      <td>4081</td>\n",
              "    </tr>\n",
              "    <tr>\n",
              "      <th>12</th>\n",
              "      <td>15.0</td>\n",
              "      <td>2702</td>\n",
              "    </tr>\n",
              "    <tr>\n",
              "      <th>13</th>\n",
              "      <td>32.0</td>\n",
              "      <td>370</td>\n",
              "    </tr>\n",
              "    <tr>\n",
              "      <th>14</th>\n",
              "      <td>20.0</td>\n",
              "      <td>1251</td>\n",
              "    </tr>\n",
              "    <tr>\n",
              "      <th>15</th>\n",
              "      <td>10.0</td>\n",
              "      <td>3140</td>\n",
              "    </tr>\n",
              "    <tr>\n",
              "      <th>16</th>\n",
              "      <td>17.0</td>\n",
              "      <td>2469</td>\n",
              "    </tr>\n",
              "    <tr>\n",
              "      <th>17</th>\n",
              "      <td>7.0</td>\n",
              "      <td>4909</td>\n",
              "    </tr>\n",
              "    <tr>\n",
              "      <th>18</th>\n",
              "      <td>39.0</td>\n",
              "      <td>396</td>\n",
              "    </tr>\n",
              "    <tr>\n",
              "      <th>19</th>\n",
              "      <td>4.0</td>\n",
              "      <td>7017</td>\n",
              "    </tr>\n",
              "    <tr>\n",
              "      <th>20</th>\n",
              "      <td>35.0</td>\n",
              "      <td>484</td>\n",
              "    </tr>\n",
              "    <tr>\n",
              "      <th>21</th>\n",
              "      <td>39.0</td>\n",
              "      <td>297</td>\n",
              "    </tr>\n",
              "    <tr>\n",
              "      <th>22</th>\n",
              "      <td>44.0</td>\n",
              "      <td>141</td>\n",
              "    </tr>\n",
              "    <tr>\n",
              "      <th>23</th>\n",
              "      <td>40.0</td>\n",
              "      <td>193</td>\n",
              "    </tr>\n",
              "    <tr>\n",
              "      <th>24</th>\n",
              "      <td>25.0</td>\n",
              "      <td>2801</td>\n",
              "    </tr>\n",
              "    <tr>\n",
              "      <th>25</th>\n",
              "      <td>8.0</td>\n",
              "      <td>3731</td>\n",
              "    </tr>\n",
              "    <tr>\n",
              "      <th>26</th>\n",
              "      <td>5.0</td>\n",
              "      <td>7444</td>\n",
              "    </tr>\n",
              "    <tr>\n",
              "      <th>27</th>\n",
              "      <td>8.0</td>\n",
              "      <td>3910</td>\n",
              "    </tr>\n",
              "    <tr>\n",
              "      <th>28</th>\n",
              "      <td>10.0</td>\n",
              "      <td>2678</td>\n",
              "    </tr>\n",
              "    <tr>\n",
              "      <th>29</th>\n",
              "      <td>14.0</td>\n",
              "      <td>1833</td>\n",
              "    </tr>\n",
              "    <tr>\n",
              "      <th>30</th>\n",
              "      <td>26.0</td>\n",
              "      <td>2946</td>\n",
              "    </tr>\n",
              "  </tbody>\n",
              "</table>\n",
              "</div>"
            ],
            "text/plain": [
              "    Price  Demand\n",
              "0     3.0    6791\n",
              "1     3.6    5988\n",
              "2    40.0     354\n",
              "3    21.0     651\n",
              "4     4.0    7111\n",
              "5    30.0     406\n",
              "6    29.0     577\n",
              "7    18.0     655\n",
              "8     9.0    2891\n",
              "9     6.0    5589\n",
              "10    5.0    6707\n",
              "11    8.0    4081\n",
              "12   15.0    2702\n",
              "13   32.0     370\n",
              "14   20.0    1251\n",
              "15   10.0    3140\n",
              "16   17.0    2469\n",
              "17    7.0    4909\n",
              "18   39.0     396\n",
              "19    4.0    7017\n",
              "20   35.0     484\n",
              "21   39.0     297\n",
              "22   44.0     141\n",
              "23   40.0     193\n",
              "24   25.0    2801\n",
              "25    8.0    3731\n",
              "26    5.0    7444\n",
              "27    8.0    3910\n",
              "28   10.0    2678\n",
              "29   14.0    1833\n",
              "30   26.0    2946"
            ]
          },
          "execution_count": 5,
          "metadata": {},
          "output_type": "execute_result"
        }
      ],
      "source": [
        "df=pd.read_csv('Hitters1.csv')\n",
        "df"
      ]
    },
    {
      "cell_type": "markdown",
      "metadata": {
        "id": "dpbLJxjeWlbB"
      },
      "source": [
        "## maker target variable Y and predictor variable X"
      ]
    },
    {
      "cell_type": "code",
      "execution_count": null,
      "metadata": {
        "id": "Ji1xHn0eWlbB",
        "outputId": "262a8794-5e79-4b9d-dddf-bf4ac02ac35c"
      },
      "outputs": [
        {
          "data": {
            "text/plain": [
              "(array([ 3. ,  3.6, 40. , 21. ,  4. , 30. , 29. , 18. ,  9. ,  6. ,  5. ,\n",
              "         8. , 15. , 32. , 20. , 10. , 17. ,  7. , 39. ,  4. , 35. , 39. ,\n",
              "        44. , 40. , 25. ,  8. ,  5. ,  8. , 10. , 14. , 26. ]),\n",
              " array([6791, 5988,  354,  651, 7111,  406,  577,  655, 2891, 5589, 6707,\n",
              "        4081, 2702,  370, 1251, 3140, 2469, 4909,  396, 7017,  484,  297,\n",
              "         141,  193, 2801, 3731, 7444, 3910, 2678, 1833, 2946], dtype=int64))"
            ]
          },
          "execution_count": 9,
          "metadata": {},
          "output_type": "execute_result"
        }
      ],
      "source": [
        "X=df.iloc[:,0].values\n",
        "y=df.iloc[:,1].values\n",
        "X,y"
      ]
    },
    {
      "cell_type": "code",
      "execution_count": null,
      "metadata": {
        "id": "37WY2nAsWlbC",
        "outputId": "fac1ab56-5710-4212-c083-61ff9c76b16e"
      },
      "outputs": [
        {
          "data": {
            "text/plain": [
              "<matplotlib.collections.PathCollection at 0xb5538f2fd0>"
            ]
          },
          "execution_count": 10,
          "metadata": {},
          "output_type": "execute_result"
        },
        {
          "data": {
            "image/png": "[encoded data removed]",
            "text/plain": [
              "<Figure size 432x288 with 1 Axes>"
            ]
          },
          "metadata": {
            "needs_background": "light"
          },
          "output_type": "display_data"
        }
      ],
      "source": [
        "## look for any linear pattern\n",
        "plt.scatter(X,y)"
      ]
    },
    {
      "cell_type": "markdown",
      "metadata": {
        "id": "j1I2ZRVjWlbD"
      },
      "source": [
        "## fitting model "
      ]
    },
    {
      "cell_type": "code",
      "execution_count": null,
      "metadata": {
        "id": "ekarlImlWlbD"
      },
      "outputs": [],
      "source": [
        "s_model = LinearRegression().fit(X.reshape(-1,1), y)\n",
        "#reshaping data to fit model"
      ]
    },
    {
      "cell_type": "markdown",
      "metadata": {
        "id": "Ll9K2lfbWlbE"
      },
      "source": [
        "## output"
      ]
    },
    {
      "cell_type": "code",
      "execution_count": null,
      "metadata": {
        "id": "6KSLYAZwWlbE",
        "outputId": "ee941349-6b6d-4568-a976-fcb75bd71d3e"
      },
      "outputs": [
        {
          "name": "stdout",
          "output_type": "stream",
          "text": [
            "coefficient of determination: 0.7338976168337804\n",
            "intercept: 5842.836197653772\n",
            "slope: [-157.70087387]\n"
          ]
        }
      ],
      "source": [
        "print('coefficient of determination:', s_model.score(X.reshape(-1,1), y))\n",
        "print('intercept:', s_model.intercept_)\n",
        "print('slope:', s_model.coef_)"
      ]
    },
    {
      "cell_type": "code",
      "execution_count": null,
      "metadata": {
        "id": "sLQOFvc3WlbF",
        "outputId": "5044ccae-fc4e-48b9-8726-67e11fb8371c"
      },
      "outputs": [
        {
          "data": {
            "text/plain": [
              "(array([ 5369.73357604,  5275.11305171,  -465.19875726,  2531.11784633,\n",
              "         5212.03270216,  1111.80998147,  1269.51085534,  3004.22046794,\n",
              "         4423.5283328 ,  4896.63095442,  5054.33182829,  4581.22920667,\n",
              "         3477.32308956,   796.40823373,  2688.8187202 ,  4265.82745893,\n",
              "         3161.92134182,  4738.93008054,  -307.49788338,  5212.03270216,\n",
              "          323.30561211,  -307.49788338, -1096.00225275,  -465.19875726,\n",
              "         1900.31435084,  4581.22920667,  5054.33182829,  4581.22920667,\n",
              "         4265.82745893,  3635.02396344,  1742.61347696]),\n",
              " array([6791, 5988,  354,  651, 7111,  406,  577,  655, 2891, 5589, 6707,\n",
              "        4081, 2702,  370, 1251, 3140, 2469, 4909,  396, 7017,  484,  297,\n",
              "         141,  193, 2801, 3731, 7444, 3910, 2678, 1833, 2946], dtype=int64))"
            ]
          },
          "execution_count": 32,
          "metadata": {},
          "output_type": "execute_result"
        }
      ],
      "source": [
        "s_model.predict(X.reshape(-1,1)),y"
      ]
    },
    {
      "cell_type": "markdown",
      "metadata": {
        "id": "_4SeFU4AWlbF"
      },
      "source": [
        "## transforming data"
      ]
    },
    {
      "cell_type": "code",
      "execution_count": null,
      "metadata": {
        "id": "qqDCD7V2WlbG",
        "outputId": "7db03981-a1c5-42fc-cd6d-b410bd8e7dac"
      },
      "outputs": [
        {
          "data": {
            "text/plain": [
              "array([82.40752393, 77.38216849, 18.81488772, 25.51470164, 84.32674546,\n",
              "       20.14944168, 24.0208243 , 25.59296778, 53.76802024, 74.75961477,\n",
              "       81.89627586, 63.88270501, 51.98076567, 19.23538406, 35.36947837,\n",
              "       56.0357029 , 49.689033  , 70.06425622, 19.89974874, 83.76753548,\n",
              "       22.        , 17.23368794, 11.87434209, 13.89244399, 52.92447449,\n",
              "       61.08191222, 86.27861844, 62.5299928 , 51.74939613, 42.81354926,\n",
              "       54.27706698])"
            ]
          },
          "execution_count": 18,
          "metadata": {},
          "output_type": "execute_result"
        }
      ],
      "source": [
        "new_y=np.sqrt(y)\n",
        "new_y"
      ]
    },
    {
      "cell_type": "code",
      "execution_count": null,
      "metadata": {
        "id": "1333C5tPWlbH"
      },
      "outputs": [],
      "source": [
        "s_model1 = LinearRegression().fit(X.reshape(-1,1), new_y)\n",
        "#reshaping data to fit model"
      ]
    },
    {
      "cell_type": "code",
      "execution_count": null,
      "metadata": {
        "id": "Ke9ORCJKWlbH",
        "outputId": "3ba18aff-249b-4b16-c840-0170e55e4404"
      },
      "outputs": [
        {
          "name": "stdout",
          "output_type": "stream",
          "text": [
            "coefficient of determination: 0.8308606126447352\n",
            "intercept: 79.54515270075692\n",
            "slope: [-1.68932556]\n"
          ]
        }
      ],
      "source": [
        "print('coefficient of determination:', s_model1.score(X.reshape(-1,1), new_y))\n",
        "print('intercept:', s_model1.intercept_)\n",
        "print('slope:', s_model1.coef_)"
      ]
    },
    {
      "cell_type": "code",
      "execution_count": null,
      "metadata": {
        "id": "9nT8M6hlWlbI",
        "outputId": "f52b1ab3-b96a-4172-e714-b6bd52ccd487"
      },
      "outputs": [
        {
          "data": {
            "text/plain": [
              "(array([74.47717601, 73.46358068, 11.97213021, 44.06931589, 72.78785045,\n",
              "        28.86538583, 30.5547114 , 49.13729258, 64.34122264, 69.40919933,\n",
              "        71.09852489, 66.0305482 , 54.20526927, 25.48673471, 45.75864146,\n",
              "        62.65189708, 50.82661814, 67.71987377, 13.66145577, 72.78785045,\n",
              "        20.41875802, 13.66145577,  5.21482796, 11.97213021, 37.31201364,\n",
              "        66.0305482 , 71.09852489, 66.0305482 , 62.65189708, 55.89459483,\n",
              "        35.62268808]),\n",
              " array([82.40752393, 77.38216849, 18.81488772, 25.51470164, 84.32674546,\n",
              "        20.14944168, 24.0208243 , 25.59296778, 53.76802024, 74.75961477,\n",
              "        81.89627586, 63.88270501, 51.98076567, 19.23538406, 35.36947837,\n",
              "        56.0357029 , 49.689033  , 70.06425622, 19.89974874, 83.76753548,\n",
              "        22.        , 17.23368794, 11.87434209, 13.89244399, 52.92447449,\n",
              "        61.08191222, 86.27861844, 62.5299928 , 51.74939613, 42.81354926,\n",
              "        54.27706698]))"
            ]
          },
          "execution_count": 31,
          "metadata": {},
          "output_type": "execute_result"
        }
      ],
      "source": [
        "s_model1.predict(X.reshape(-1,1)),new_y"
      ]
    },
    {
      "cell_type": "markdown",
      "metadata": {
        "id": "Ax6FpwL5WlbI"
      },
      "source": [
        "## train test split"
      ]
    },
    {
      "cell_type": "code",
      "execution_count": null,
      "metadata": {
        "id": "7wjFzozOWlbJ"
      },
      "outputs": [],
      "source": [
        "X_train,X_test,y_train,y_test=train_test_split(X,y,test_size=0.2,random_state=0)"
      ]
    },
    {
      "cell_type": "code",
      "execution_count": null,
      "metadata": {
        "id": "tXxVADXcWlbK"
      },
      "outputs": [],
      "source": [
        "s_model2 = LinearRegression().fit(X_train.reshape(-1,1), y_train)\n",
        "#reshaping data to fit model"
      ]
    },
    {
      "cell_type": "code",
      "execution_count": null,
      "metadata": {
        "id": "JHUd-cb0WlbL",
        "outputId": "22453cc7-ccdc-436e-980a-a11ff7731fe6"
      },
      "outputs": [
        {
          "name": "stdout",
          "output_type": "stream",
          "text": [
            "coefficient of determination: 0.7329659753754171\n",
            "intercept: 6064.6005325349\n",
            "slope: [-170.16858541]\n"
          ]
        }
      ],
      "source": [
        "print('coefficient of determination:', s_model2.score(X_train.reshape(-1,1), y_train))\n",
        "print('intercept:', s_model2.intercept_)\n",
        "print('slope:', s_model2.coef_)"
      ]
    },
    {
      "cell_type": "code",
      "execution_count": null,
      "metadata": {
        "id": "20RUgk3vWlbM",
        "outputId": "f646240f-a2f9-4185-eaa8-7bed7f0c4388"
      },
      "outputs": [
        {
          "data": {
            "text/plain": [
              "(array([ -742.14288397,  3682.24033676,   619.20579933,  5213.75760547,\n",
              "         4703.25184923,  4703.25184923, -1422.81722563]),\n",
              " array([ 354, 1833,  370, 6707, 3910, 3731,  141], dtype=int64))"
            ]
          },
          "execution_count": 43,
          "metadata": {},
          "output_type": "execute_result"
        }
      ],
      "source": [
        "s_model2.predict(X_test.reshape(-1,1)),y_test"
      ]
    },
    {
      "cell_type": "code",
      "execution_count": null,
      "metadata": {
        "id": "SFvn3Hn9WlbM",
        "outputId": "5ad2823b-7399-4586-d3c3-23368aad45dc"
      },
      "outputs": [
        {
          "data": {
            "image/png": "[encoded data removed]",
            "text/plain": [
              "<Figure size 432x288 with 1 Axes>"
            ]
          },
          "metadata": {
            "needs_background": "light"
          },
          "output_type": "display_data"
        }
      ],
      "source": [
        "fig, ax = plt.subplots()\n",
        "plt.scatter(X,y)\n",
        "plt.plot(X_test, s_model2.predict(X_test.reshape(-1,1)), color=\"blue\", linewidth=2)\n",
        "plt.xlabel('price', fontsize=12)\n",
        "plt.ylabel('demand', fontsize=12)\n",
        "plt.show()"
      ]
    },
    {
      "cell_type": "code",
      "execution_count": null,
      "metadata": {
        "id": "1DwD-7rMWlbN"
      },
      "outputs": [],
      "source": []
    }
  ],
  "metadata": {
    "kernelspec": {
      "display_name": "Python 3",
      "language": "python",
      "name": "python3"
    },
    "language_info": {
      "codemirror_mode": {
        "name": "ipython",
        "version": 3
      },
      "file_extension": ".py",
      "mimetype": "text/x-python",
      "name": "python",
      "nbconvert_exporter": "python",
      "pygments_lexer": "ipython3",
      "version": "3.8.5"
    },
    "colab": {
      "provenance": [],
      "include_colab_link": true
    }
  },
  "nbformat": 4,
  "nbformat_minor": 0
}